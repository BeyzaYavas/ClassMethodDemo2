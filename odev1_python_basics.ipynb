{
  "nbformat": 4,
  "nbformat_minor": 0,
  "metadata": {
    "colab": {
      "provenance": [],
      "authorship_tag": "ABX9TyMg0zKrWoyef4XYhFC7aYYC",
      "include_colab_link": true
    },
    "kernelspec": {
      "name": "python3",
      "display_name": "Python 3"
    },
    "language_info": {
      "name": "python"
    }
  },
  "cells": [
    {
      "cell_type": "markdown",
      "metadata": {
        "id": "view-in-github",
        "colab_type": "text"
      },
      "source": [
        "<a href=\"https://colab.research.google.com/github/BeyzaYavas/ClassMethodDemo2/blob/deneme/odev1_python_basics.ipynb\" target=\"_parent\"><img src=\"https://colab.research.google.com/assets/colab-badge.svg\" alt=\"Open In Colab\"/></a>"
      ]
    },
    {
      "cell_type": "code",
      "execution_count": null,
      "metadata": {
        "id": "6ukxKIR6U1RK"
      },
      "outputs": [],
      "source": [
        "import numpy as np \n",
        "import pandas as pd\n",
        "import math "
      ]
    },
    {
      "cell_type": "code",
      "source": [
        "#1- İki çocuğunun yaşları toplamı 5'tir. 3 yıl sonra babanın yaşı çocukların yaşları toplamının 3 katı olacağına göre babanın bugünkü yaşı kaçtır?\n",
        "#Denklemi python dilinde kurunuz ve çıktıyı print ediniz.\n",
        "\n",
        "def yas ( cocuklar_now, cocuk_sayi, yil, kat ):\n",
        "  baba_now = ( kat* (cocuklar_now + cocuk_sayi* yil ) ) - yil\n",
        "  print(baba_now)"
      ],
      "metadata": {
        "id": "jv7lnBylXySl"
      },
      "execution_count": null,
      "outputs": []
    },
    {
      "cell_type": "code",
      "source": [
        "yas(5,2,3,3 )"
      ],
      "metadata": {
        "colab": {
          "base_uri": "https://localhost:8080/"
        },
        "id": "1iTyW0qmbRN4",
        "outputId": "efc8aaea-cc51-4ed4-ec7e-955eaf79076c"
      },
      "execution_count": null,
      "outputs": [
        {
          "output_type": "stream",
          "name": "stdout",
          "text": [
            "30\n"
          ]
        }
      ]
    },
    {
      "cell_type": "code",
      "source": [
        "\"\"\"2-Veri bilimi, verilerden değer elde etmek için istatistik, bilimsel yöntemler, yapay zeka (AI) ve veri analizi dahil olmak üzere birçok alanı bir araya getirir. \n",
        "Veri Bilimiyle uğraşan kişilere veri bilimci denir. Bu kişiler web, akıllı telefonlar, müşteriler, sensörler ve diğer kaynaklardan toplanan verileri analiz etmek ve \n",
        "bunlardan eyleme dönüştürülebilir içgörüler üretmek amacıyla bir dizi beceriyi bir araya getirir.\n",
        "\n",
        "Yukarıda yer alan metindeki \"veri bilim\" kelimelerini bulup yerine \"VERİ BİLİM\" yazınız. \"\"\"\n",
        "\n",
        "metin = 'Veri bilimi, verilerden değer elde etmek için istatistik, bilimsel yöntemler, yapay zeka (AI) ve veri analizi dahil olmak üzere birçok alanı bir araya getirir. Veri Bilimiyle uğraşan kişilere veri bilimci denir. Bu kişiler web, akıllı telefonlar, müşteriler, sensörler ve diğer kaynaklardan toplanan verileri analiz etmek ve bunlardan eyleme dönüştürülebilir içgörüler üretmek amacıyla bir dizi beceriyi bir araya getirir.'\n",
        "\n",
        "\n",
        "metin.replace(\"veri bilim\",\"VERİ BİLİM\").replace(\"Veri Bilim\", \"VERİ BİLİM\").replace(\"Veri bilim\", \"VERİ BİLİM\") \n",
        "\n",
        "\n",
        "\n",
        "\n"
      ],
      "metadata": {
        "id": "yOFKbjfidZyz",
        "colab": {
          "base_uri": "https://localhost:8080/",
          "height": 72
        },
        "outputId": "9b9506ec-0bb9-4bed-f4cf-b651d9ddb4aa"
      },
      "execution_count": null,
      "outputs": [
        {
          "output_type": "execute_result",
          "data": {
            "text/plain": [
              "'VERİ BİLİMi, verilerden değer elde etmek için istatistik, bilimsel yöntemler, yapay zeka (AI) ve veri analizi dahil olmak üzere birçok alanı bir araya getirir. VERİ BİLİMiyle uğraşan kişilere VERİ BİLİMci denir. Bu kişiler web, akıllı telefonlar, müşteriler, sensörler ve diğer kaynaklardan toplanan verileri analiz etmek ve bunlardan eyleme dönüştürülebilir içgörüler üretmek amacıyla bir dizi beceriyi bir araya getirir.'"
            ],
            "application/vnd.google.colaboratory.intrinsic+json": {
              "type": "string"
            }
          },
          "metadata": {},
          "execution_count": 245
        }
      ]
    },
    {
      "cell_type": "code",
      "source": [
        "#3- Adını, soyadını, yaşını, yaşadığın şehri ve üniversite ortalamanı aralarında birer boşluk olacak şekilde tek bir print ifade içerisinde yazın.\n",
        "\n",
        "\n",
        "def introduce_yourself(name,surname,age,city, gpa):\n",
        "  print(f\"{name},{surname},{age}, {city}, {gpa}\")"
      ],
      "metadata": {
        "id": "2ZZU0AvYbXdj"
      },
      "execution_count": null,
      "outputs": []
    },
    {
      "cell_type": "code",
      "source": [
        "introduce_yourself(\"beyza\", \"yavas\", 24, \"istanbul\", \"3.04\")"
      ],
      "metadata": {
        "colab": {
          "base_uri": "https://localhost:8080/"
        },
        "id": "1oCz9AJmexf7",
        "outputId": "83d62614-6060-4d70-c1d3-3e6f6771e006"
      },
      "execution_count": null,
      "outputs": [
        {
          "output_type": "stream",
          "name": "stdout",
          "text": [
            "beyza,yavas,24, istanbul, 3.04\n"
          ]
        }
      ]
    },
    {
      "cell_type": "code",
      "source": [
        "\"\"\"4- Veri bilimi günümüzün en heyecan verici alanlardan biridir.\n",
        "\n",
        "\"Veri bilimi\" ve \"alanlardan biridir.\" kelimelerini cümle içerisinden alınız ve her kelimeyi uzunlukları kadar aşağı doğru çoğaltarak print ediniz.\n",
        "\n",
        "NOT: \"\\n\" ifadesi alt satıra geçer\"\"\"\n",
        "\n",
        "cumle = \"Veri bilimi günümüzün en heyecan verici alanlardan biridir.\"\n",
        "\n",
        "liste = [\"Veri bilimi\" , \"alanlardan biridir.\"]\n",
        "\n",
        "str1 = \"Veri bilimi\"\n",
        "str2 = \"alanlardan biridir.\"\n",
        "\n",
        "#???"
      ],
      "metadata": {
        "id": "GHe8OEoze56D"
      },
      "execution_count": null,
      "outputs": []
    },
    {
      "cell_type": "code",
      "source": [
        "\"\"\"5- \"veri bilimi\" ve \"VERİ BİLİMİ\" kelimelerinden hangisi büyük hangisi küçük harf ile yazılmış kontrol ediniz.\n",
        "\n",
        "Not: Hangi fonksiyonu kullanmanız gerektiğini dir() bulabilirsiniz.\"\"\"\n",
        "\n",
        "string1 = \"veri bilimi\"\n",
        "string2 = \"VERİ BİLİMİ\" \n",
        "\n",
        "def bul(string):\n",
        "  if string.isupper() :\n",
        "    print(\"Büyük harfle yazılmış\")\n",
        "  else :\n",
        "    print(\"Küçük harfle yazılmış\")\n",
        "\n",
        "bul(string1)\n",
        "bul(string2)"
      ],
      "metadata": {
        "id": "nmfBZufUfYem",
        "colab": {
          "base_uri": "https://localhost:8080/"
        },
        "outputId": "f851c89f-6f19-472b-f5d5-d7fa0e7fbfd9"
      },
      "execution_count": null,
      "outputs": [
        {
          "output_type": "stream",
          "name": "stdout",
          "text": [
            "Küçük harfle yazılmış\n",
            "Büyük harfle yazılmış\n"
          ]
        }
      ]
    },
    {
      "cell_type": "code",
      "source": [
        "\"\"\"6- adınız, soyadınız, yaşınız, yaşadğınız şehir ve universite not ortalamanız ile bir liste oluşturunuz. Oluşturduğunuz listeyi \"listem\" değişkeni olarak kaydediniz.\"\"\"\n",
        "\n",
        "def introduce_yourself_liste(name,surname,age,city, gpa):\n",
        "  listem = []\n",
        "  listem += name,surname,age,city,gpa\n",
        "  return listem"
      ],
      "metadata": {
        "id": "DSpc530ggDEy"
      },
      "execution_count": null,
      "outputs": []
    },
    {
      "cell_type": "code",
      "source": [
        "listem = introduce_yourself_liste(\"beyza\", \"yavas\", 24, \"istanbul\", \"3.04\")\n",
        "listem"
      ],
      "metadata": {
        "colab": {
          "base_uri": "https://localhost:8080/"
        },
        "id": "N4VOzsQwgi4L",
        "outputId": "be744ff0-9139-4d8b-8ee6-e13dc0650eab"
      },
      "execution_count": null,
      "outputs": [
        {
          "output_type": "execute_result",
          "data": {
            "text/plain": [
              "['beyza', 'yavas', 24, 'istanbul', '3.04']"
            ]
          },
          "metadata": {},
          "execution_count": 214
        }
      ]
    },
    {
      "cell_type": "code",
      "source": [
        "#7- \"listem\" değişkeni içerisinden yaşınızı, yaşadığınız şehiri ve universite not ortalamanızı seçerek \"listem2\" değişkenini oluşturunuz.\n",
        "\n",
        "listem2 = []\n",
        "\n",
        "for i in listem:\n",
        "  if i == listem[0] or i == listem[1] or i == listem[3] or i == listem[4] :\n",
        "    listem2.append(i)\n",
        " \n",
        "listem2"
      ],
      "metadata": {
        "id": "RcmVU7GulaCC",
        "colab": {
          "base_uri": "https://localhost:8080/"
        },
        "outputId": "e476c6b0-c092-4bae-a519-25eb5c95cd15"
      },
      "execution_count": null,
      "outputs": [
        {
          "output_type": "execute_result",
          "data": {
            "text/plain": [
              "['beyza', 'yavas', 'istanbul', '3.04']"
            ]
          },
          "metadata": {},
          "execution_count": 215
        }
      ]
    },
    {
      "cell_type": "code",
      "source": [
        "#8- \"listem2\" değişkeninin her bir elamanının türlerini yazdırınız.\n",
        "\n",
        "for i in listem2:\n",
        "  print(type(i))"
      ],
      "metadata": {
        "id": "RcxdbZC4tQ0Y",
        "colab": {
          "base_uri": "https://localhost:8080/"
        },
        "outputId": "a7626811-b387-4467-ce76-17152353f761"
      },
      "execution_count": null,
      "outputs": [
        {
          "output_type": "stream",
          "name": "stdout",
          "text": [
            "<class 'str'>\n",
            "<class 'str'>\n",
            "<class 'str'>\n",
            "<class 'str'>\n"
          ]
        }
      ]
    },
    {
      "cell_type": "code",
      "source": [
        "\"\"\"9- \"listem2\" değişkenine aşağıdaki listeyi LİSTE olarak ekleyiniz.\n",
        "eklenecek_liste = [\"Ali\", 90, \"Mehmet\"]\"\"\"\n",
        "\n",
        "eklenecek_liste = [\"Ali\", 90, \"Mehmet\"]\n",
        "\n",
        "listem2 = listem2 + [eklenecek_liste]\n",
        "\n",
        "listem2\n"
      ],
      "metadata": {
        "id": "vlnc4_OCtUNA",
        "colab": {
          "base_uri": "https://localhost:8080/"
        },
        "outputId": "aa394fe4-c2ac-4d8a-d374-71649aefbd01"
      },
      "execution_count": null,
      "outputs": [
        {
          "output_type": "execute_result",
          "data": {
            "text/plain": [
              "['beyza', 'yavas', 'istanbul', '3.04', ['Ali', 90, 'Mehmet']]"
            ]
          },
          "metadata": {},
          "execution_count": 217
        }
      ]
    },
    {
      "cell_type": "code",
      "source": [
        "\"\"\"10- \"listem2\" değişkeninin içinden \"Ali\" ve \"90\" ı seçip Listem3 değişkenine atayınız.\"\"\"\n",
        "\n",
        "Listem3 = listem2[-1][0:2]\n",
        "\n",
        "Listem3"
      ],
      "metadata": {
        "id": "axB3PxSrtwCj",
        "colab": {
          "base_uri": "https://localhost:8080/"
        },
        "outputId": "f1b6e306-9249-413c-ff65-e85a6366b9c5"
      },
      "execution_count": null,
      "outputs": [
        {
          "output_type": "execute_result",
          "data": {
            "text/plain": [
              "['Ali', 90]"
            ]
          },
          "metadata": {},
          "execution_count": 218
        }
      ]
    },
    {
      "cell_type": "code",
      "source": [
        "\"\"\"11- \"listem2\" değişkenine Listem3 değişkenini ELEMAN olarak ekleyiniz.\"\"\"\n",
        "\n",
        "\n",
        "listem2 = listem2 + [Listem3]\n",
        "\n",
        "listem2"
      ],
      "metadata": {
        "id": "lM8xXYrutycD",
        "colab": {
          "base_uri": "https://localhost:8080/"
        },
        "outputId": "2044f106-744a-48df-d0ca-4e129a527216"
      },
      "execution_count": null,
      "outputs": [
        {
          "output_type": "execute_result",
          "data": {
            "text/plain": [
              "['beyza', 'yavas', 'istanbul', '3.04', ['Ali', 90, 'Mehmet'], ['Ali', 90]]"
            ]
          },
          "metadata": {},
          "execution_count": 219
        }
      ]
    },
    {
      "cell_type": "code",
      "source": [
        "\"\"\"12- \"listem2\" içerisinden 90 elemanını siliniz.\"\"\"\n",
        "\n",
        "#del (listem2[-1][-1])\n",
        "\n",
        "#del(listem2[4][1])\n",
        "\n",
        "for eleman in listem2:\n",
        "   for i in eleman:\n",
        "     if i == 90:\n",
        "       eleman.remove(90)\n",
        "\n",
        "\n",
        "listem2"
      ],
      "metadata": {
        "id": "e7w0as5Qt0kH",
        "colab": {
          "base_uri": "https://localhost:8080/"
        },
        "outputId": "4278f01d-88a9-4892-ff1c-b99a4271f606"
      },
      "execution_count": null,
      "outputs": [
        {
          "output_type": "execute_result",
          "data": {
            "text/plain": [
              "['beyza', 'yavas', 'istanbul', '3.04', ['Ali', 'Mehmet'], ['Ali']]"
            ]
          },
          "metadata": {},
          "execution_count": 220
        }
      ]
    },
    {
      "cell_type": "code",
      "source": [
        "\"\"\"13- 1'den 10'a kadar tüm rakamları azalacak şekilde sıralanmış şekilde bir liste oluşturunuz. \"yeni_liste\" değişkenine atayınız.\"\"\"\n",
        "\n",
        "liste = [i for i in range(1,11)]\n",
        "\n",
        "yeni_liste = liste[::-1]\n",
        "\n",
        "yeni_liste"
      ],
      "metadata": {
        "id": "xmy24dh7t2qX",
        "colab": {
          "base_uri": "https://localhost:8080/"
        },
        "outputId": "9c3500e5-a44a-4933-bf7f-dddf00f61f41"
      },
      "execution_count": null,
      "outputs": [
        {
          "output_type": "execute_result",
          "data": {
            "text/plain": [
              "[10, 9, 8, 7, 6, 5, 4, 3, 2, 1]"
            ]
          },
          "metadata": {},
          "execution_count": 39
        }
      ]
    },
    {
      "cell_type": "code",
      "source": [
        "#14- \"yeni_liste\" değişkeninin içerisindeki 7 ve 2 elemanlarının yerlerini belirtiniz.\n",
        "\n",
        "\n",
        "[f\"Listede {i} elemanı {yeni_tuple.index(i)} indeksinde bulunmakta\" for i in yeni_liste if i==7 or i ==2]"
      ],
      "metadata": {
        "colab": {
          "base_uri": "https://localhost:8080/"
        },
        "id": "7h51aMomC_HJ",
        "outputId": "1dc5a5d6-dccc-48ae-e886-7b604b9142ab"
      },
      "execution_count": null,
      "outputs": [
        {
          "output_type": "execute_result",
          "data": {
            "text/plain": [
              "['Listede 7 elemanı 3 indeksinde bulunmakta',\n",
              " 'Listede 2 elemanı 8 indeksinde bulunmakta']"
            ]
          },
          "metadata": {},
          "execution_count": 79
        }
      ]
    },
    {
      "cell_type": "code",
      "source": [
        "#15- \"listem2\" üzerinden tuple oluşturunuz ve \"tuple1\" adını veriniz\n",
        "\n",
        "tuple1 = tuple(listem2)\n",
        "\n",
        "tuple1\n"
      ],
      "metadata": {
        "colab": {
          "base_uri": "https://localhost:8080/"
        },
        "id": "PqH71UxNDrXJ",
        "outputId": "2502bf7a-64e6-49bb-fa42-66ef407e167d"
      },
      "execution_count": null,
      "outputs": [
        {
          "output_type": "execute_result",
          "data": {
            "text/plain": [
              "('beyza', 'yavas', 'istanbul', '3.04', ['Ali', 90, 'Mehmet'], ['Ali', 90])"
            ]
          },
          "metadata": {},
          "execution_count": 41
        }
      ]
    },
    {
      "cell_type": "code",
      "source": [
        "#16- \"tuple1\" değişkeni içerisindeki \"Ali\" yerine \"Veli\" yazınız.\n",
        "\n",
        "#tuple1[-1][-2] = \"Veli\"\n",
        "#tuple1[-2][0] = \"Veli\"\n",
        "\n",
        "\n",
        "for i in tuple1:\n",
        "  for j in i:\n",
        "    if j == \"Ali\":\n",
        "      j = \"Veli\"\n",
        "\n",
        "tuple1"
      ],
      "metadata": {
        "colab": {
          "base_uri": "https://localhost:8080/"
        },
        "id": "wh_slN9JEp3q",
        "outputId": "fa2a14d7-070f-428d-ab51-570b6d71126b"
      },
      "execution_count": null,
      "outputs": [
        {
          "output_type": "execute_result",
          "data": {
            "text/plain": [
              "('beyza', 'yavas', 'istanbul', '3.04', ['Veli', 90, 'Mehmet'], ['Veli', 90])"
            ]
          },
          "metadata": {},
          "execution_count": 53
        }
      ]
    },
    {
      "cell_type": "code",
      "source": [
        "#17- 1'den 10'a kadar tüm rakamları azalacak şekilde sıralanmış şekilde bir tuple oluşturunuz. \"yeni_tuple\" değişkenine atayınız. (NOT: methodu siz bulacaksınız)\n",
        "\n",
        "tuple2 = tuple(range(10,0,-1))\n",
        "\n",
        "yeni_tuple = ()\n",
        "\n",
        "yeni_tuple = tuple2\n",
        "\n",
        "\n",
        "print(yeni_tuple) "
      ],
      "metadata": {
        "colab": {
          "base_uri": "https://localhost:8080/"
        },
        "id": "l93GJgHnGN-i",
        "outputId": "95647221-9ef6-4d6d-ba3f-5dc412394883"
      },
      "execution_count": null,
      "outputs": [
        {
          "output_type": "stream",
          "name": "stdout",
          "text": [
            "(10, 9, 8, 7, 6, 5, 4, 3, 2, 1)\n"
          ]
        }
      ]
    },
    {
      "cell_type": "code",
      "source": [
        "#18- \"yeni_tuple\" değişkeninin içerisindeki 7 ve 2 elemanlarının yerlerini belirtiniz.\n",
        "\n",
        "for i in yeni_tuple:\n",
        "  if i==7 or i==2 :\n",
        "    print(f\"Tupledaki {i} elemanının indeksi : {yeni_tuple.index(i)}\")"
      ],
      "metadata": {
        "colab": {
          "base_uri": "https://localhost:8080/"
        },
        "id": "vA5_5SkpOADy",
        "outputId": "91f4b973-7019-4f33-dfcf-dfadee111c0e"
      },
      "execution_count": null,
      "outputs": [
        {
          "output_type": "stream",
          "name": "stdout",
          "text": [
            "Tupledaki 7 elemanının indeksi : 3\n",
            "Tupledaki 2 elemanının indeksi : 8\n"
          ]
        }
      ]
    },
    {
      "cell_type": "code",
      "source": [
        "\"\"\"\n",
        "19- Aşağıda yer alan dictionary'nin içinden REG'in RMSE değerini, LOG'un MSE değerini ve CART'ın SSE değerini ayrı ayrı çekip yeni bir SET oluşturunuz.\n",
        "\n",
        "dictionary = {\"REG\": [\"RMSE\", 10],\n",
        "              \"LOG\": [\"MSE\", 20],\n",
        "              \"CART\": [\"SSE\", 10]}\n",
        "\"\"\"\n",
        "dictionary = {\"REG\": [\"RMSE\", 10],\n",
        "              \"LOG\": [\"MSE\", 20],\n",
        "              \"CART\": [\"SSE\", 10]}\n",
        "küme1 = set()\n",
        "\n",
        "for i,j in dictionary.items():\n",
        "  küme1.add(j[1])\n",
        "\n",
        "print(küme1)\n",
        "\n",
        "#--2.çözüm\n",
        "\n",
        "liste_küme = [i[1] for i in dictionary.values()]\n",
        "\n",
        "küme2 = set(liste_küme)\n",
        "print(küme2)"
      ],
      "metadata": {
        "colab": {
          "base_uri": "https://localhost:8080/"
        },
        "id": "1djO8WgTPSQJ",
        "outputId": "4a81e185-7c2d-4662-8418-c67031522d34"
      },
      "execution_count": null,
      "outputs": [
        {
          "output_type": "stream",
          "name": "stdout",
          "text": [
            "{10, 20}\n",
            "{10, 20}\n"
          ]
        }
      ]
    },
    {
      "cell_type": "code",
      "source": [
        "#20- CART değerini [\"SSE\", 30] olarak değiştiriniz.\n",
        "\n",
        "for i,j in dictionary.items():\n",
        "  if i=='CART':\n",
        "    j[1] = 30\n",
        "\n",
        "\n",
        "print(dictionary)"
      ],
      "metadata": {
        "colab": {
          "base_uri": "https://localhost:8080/"
        },
        "id": "Wp64wOXQR-Gq",
        "outputId": "8d58c6b6-8a63-45ab-e7fa-88dcc54ace51"
      },
      "execution_count": null,
      "outputs": [
        {
          "output_type": "stream",
          "name": "stdout",
          "text": [
            "{'REG': ['RMSE', 10], 'LOG': ['MSE', 20], 'CART': ['SSE', 30]}\n"
          ]
        }
      ]
    },
    {
      "cell_type": "code",
      "source": [
        "#21- Sözlüğe yeni bir \"RF\" key değeri ekleyerek value'sunu [\"SSE\", 50] olarak tanımlayınız.\n",
        "\n",
        "dictionary[\"RF\"] = [\"SSE\",50]\n",
        "\n",
        "print(dictionary)"
      ],
      "metadata": {
        "colab": {
          "base_uri": "https://localhost:8080/"
        },
        "id": "OHxC4d3qSmeP",
        "outputId": "45ecc066-8cb2-457d-b4a6-995b5712dc29"
      },
      "execution_count": null,
      "outputs": [
        {
          "output_type": "stream",
          "name": "stdout",
          "text": [
            "{'REG': ['RMSE', 10], 'LOG': ['MSE', 20], 'CART': ['SSE', 30], 'RF': ['SSE', 50]}\n"
          ]
        }
      ]
    },
    {
      "cell_type": "code",
      "source": [
        "\"\"\" 22- Aşağıda yer alan listeyi SET'e çeviriniz, \"set1\" adını veriniz ve içindeki eleman sayısını söyleyiniz.\n",
        "\n",
        "liste1 = [10, 20, 10, \"Ali\", 10, \"Ali\", \"Mehmet\", 20, \"Ayşe\" ]\"\"\"\n",
        "\n",
        "liste1 = [10, 20, 10, \"Ali\", 10, \"Ali\", \"Mehmet\", 20, \"Ayşe\" ]\n",
        "\n",
        "set1 = set(liste1)\n",
        "\n",
        "print(len(set1))\n",
        "\n",
        "print(set1)"
      ],
      "metadata": {
        "colab": {
          "base_uri": "https://localhost:8080/"
        },
        "id": "2v26eTURTTzV",
        "outputId": "d69ac90b-0523-4b24-c1a6-53502856454c"
      },
      "execution_count": null,
      "outputs": [
        {
          "output_type": "stream",
          "name": "stdout",
          "text": [
            "5\n",
            "{'Mehmet', 'Ali', 'Ayşe', 10, 20}\n"
          ]
        }
      ]
    },
    {
      "cell_type": "code",
      "source": [
        "#23- \"set1\" kümesinin içinden 5. eleman ile 7. elemanı çekiniz.\n",
        "\n",
        "# kümeler sıralı veri tipleri olmadığı için 5 ve 7. elemanlara ulaşamayız\n",
        "  \n",
        "  "
      ],
      "metadata": {
        "id": "zNI-ZinvToxZ"
      },
      "execution_count": null,
      "outputs": []
    },
    {
      "cell_type": "code",
      "source": [
        "#24- \"set1\" kümesinde yer alan \"Ali\" yerine \"Veli\" ve 10 yerini \"40\" değerlerini ekleyiniz.\n",
        "\n",
        "for i in set1:\n",
        "  if i == \"Ali\":\n",
        "    i= \"Veli\"\n",
        "  elif i == 10:\n",
        "    i=\"40\"\n",
        "\n",
        "print(set1)\n",
        "\n",
        "#Bir küme oluşturunca demetlerde olduğu gibi elemanlarını değiştiremiyoruz."
      ],
      "metadata": {
        "colab": {
          "base_uri": "https://localhost:8080/"
        },
        "id": "imYN473PW_A2",
        "outputId": "4f6c34d6-4d32-404b-9346-aebb767e90d7"
      },
      "execution_count": null,
      "outputs": [
        {
          "output_type": "stream",
          "name": "stdout",
          "text": [
            "{'Mehmet', 'Ali', 'Ayşe', 10, 20}\n"
          ]
        }
      ]
    },
    {
      "cell_type": "code",
      "source": [
        "\"\"\"\n",
        "25- ZOR SORU aşağıda yer alan kümeler için soruları cevaplayınız. (Küme methodları kullanılabilir.)\n",
        "\n",
        "set1 = set([1, 3, 5])\n",
        "set2 = set([1, 2, 3])\n",
        "25.1- set1'de olup set2'de olmayanlar hangileridir? (difference())\n",
        "\"\"\"\n",
        "\n",
        "set1 = set([1, 3, 5])\n",
        "set2 = set([1, 2, 3])\n",
        "\n",
        "fark = set1.difference(set2)\n",
        "\n",
        "print(fark)"
      ],
      "metadata": {
        "colab": {
          "base_uri": "https://localhost:8080/"
        },
        "id": "Si7zgIeMZ41a",
        "outputId": "3adc94ac-8a62-4629-ae57-9c1772c1a96c"
      },
      "execution_count": null,
      "outputs": [
        {
          "output_type": "stream",
          "name": "stdout",
          "text": [
            "{5}\n"
          ]
        }
      ]
    },
    {
      "cell_type": "code",
      "source": [
        "#25.2- set2'de olup set1'de olmayanlar hangileridir? (difference())\n",
        "\n",
        "fark2 = set2.difference(set1)\n",
        "\n",
        "print(fark2)"
      ],
      "metadata": {
        "colab": {
          "base_uri": "https://localhost:8080/"
        },
        "id": "ERlRv22UaYpj",
        "outputId": "bf9dae46-20cf-4cd8-89db-090071768dab"
      },
      "execution_count": null,
      "outputs": [
        {
          "output_type": "stream",
          "name": "stdout",
          "text": [
            "{2}\n"
          ]
        }
      ]
    },
    {
      "cell_type": "code",
      "source": [
        "#25.3- İki kümede de birbirlerine göre olmayanlar hangileridir? (symmetric_difference())\n",
        "\n",
        "fark3 = set1.symmetric_difference(set2)\n",
        "\n",
        "print(fark3)"
      ],
      "metadata": {
        "colab": {
          "base_uri": "https://localhost:8080/"
        },
        "id": "LPSIJ_dWajh-",
        "outputId": "15b4ce78-0040-4920-fcc5-6e2854e6f43f"
      },
      "execution_count": null,
      "outputs": [
        {
          "output_type": "stream",
          "name": "stdout",
          "text": [
            "{2, 5}\n"
          ]
        }
      ]
    },
    {
      "cell_type": "code",
      "source": [
        "#25.4- İki kümenin kesişimi nedir? (intersection())\n",
        "\n",
        "birleşim = set1.intersection(set2)\n",
        "\n",
        "print(birleşim)"
      ],
      "metadata": {
        "colab": {
          "base_uri": "https://localhost:8080/"
        },
        "id": "-c3CShcDdO7i",
        "outputId": "146c3e77-069d-44fe-c94b-44272ee5f658"
      },
      "execution_count": null,
      "outputs": [
        {
          "output_type": "stream",
          "name": "stdout",
          "text": [
            "{1, 3}\n"
          ]
        }
      ]
    },
    {
      "cell_type": "code",
      "source": [
        "#25.5- İki kümenin birleşimi nedir? (union())\n",
        "\n",
        "kesişim = set1.union(set2)\n",
        "\n",
        "print(kesişim)\n"
      ],
      "metadata": {
        "colab": {
          "base_uri": "https://localhost:8080/"
        },
        "id": "ZVYorjV0dfHP",
        "outputId": "723b0a5d-903c-4460-9a85-7f2c4fc49f29"
      },
      "execution_count": null,
      "outputs": [
        {
          "output_type": "stream",
          "name": "stdout",
          "text": [
            "{1, 2, 3, 5}\n"
          ]
        }
      ]
    },
    {
      "cell_type": "code",
      "source": [
        "#25.6- İki kümenin kesişimi boş mudur? (isdisjoint())\n",
        "\n",
        "set1.isdisjoint(set2)\n"
      ],
      "metadata": {
        "colab": {
          "base_uri": "https://localhost:8080/"
        },
        "id": "MB-SCqTJdf3N",
        "outputId": "97bac13b-47aa-43a4-e36a-d79ca4ac8438"
      },
      "execution_count": null,
      "outputs": [
        {
          "output_type": "execute_result",
          "data": {
            "text/plain": [
              "False"
            ]
          },
          "metadata": {},
          "execution_count": 142
        }
      ]
    },
    {
      "cell_type": "code",
      "source": [
        "#25.7- Bir küme diğer kümenin alt kümesi midir? (issubset())\n",
        "\n",
        "print(set1.issubset(set2))\n",
        "\n",
        "print(set2.issubset(set1))\n"
      ],
      "metadata": {
        "colab": {
          "base_uri": "https://localhost:8080/"
        },
        "id": "6TZ6-qi_dgaW",
        "outputId": "a4bc6132-94d3-4af9-e2f7-feff73cd49aa"
      },
      "execution_count": null,
      "outputs": [
        {
          "output_type": "stream",
          "name": "stdout",
          "text": [
            "False\n",
            "False\n"
          ]
        }
      ]
    },
    {
      "cell_type": "code",
      "source": [
        "#25.8- Bir küme diğer kümeyi kapsıyor mudur? (isdisjoint()) --> issuperset()\n",
        "\n",
        "print(set1.issuperset(set2))\n",
        "print(set2.issuperset(set1))"
      ],
      "metadata": {
        "colab": {
          "base_uri": "https://localhost:8080/"
        },
        "id": "I16gYLLOea08",
        "outputId": "0c218c87-1e6f-42a1-9c74-056dd65de0ac"
      },
      "execution_count": null,
      "outputs": [
        {
          "output_type": "stream",
          "name": "stdout",
          "text": [
            "False\n",
            "False\n"
          ]
        }
      ]
    },
    {
      "cell_type": "code",
      "source": [
        "\"\"\"\n",
        "\n",
        "maaslar = [1000,2000,3000,4000,5000]\n",
        "\n",
        "26- Maaslara yuzde 20 zam yaparak zamlı_maaslar listesine atayınız. (Function, For kullanarak)\n",
        "\"\"\"\n",
        "maaslar = [1000,2000,3000,4000,5000]\n",
        "\n",
        "zamlı_maaslar=[]\n",
        "\n",
        "def zam_yap(liste,zam_miktar):\n",
        "  zam_oranı = zam_miktar/100\n",
        "  for i in liste :\n",
        "    i+=i*zam_oranı\n",
        "    zamlı_maaslar.append(i)\n",
        "  return zamlı_maaslar\n",
        "\n",
        "zamlı_maaslar = zam_yap(maaslar,20)\n",
        "\n",
        "print(zamlı_maaslar)"
      ],
      "metadata": {
        "colab": {
          "base_uri": "https://localhost:8080/"
        },
        "id": "tNE8vE84e7rK",
        "outputId": "8f64c5aa-b332-4324-f39b-83c92c5449d8"
      },
      "execution_count": null,
      "outputs": [
        {
          "output_type": "stream",
          "name": "stdout",
          "text": [
            "[1200.0, 2400.0, 3600.0, 4800.0, 6000.0]\n"
          ]
        }
      ]
    },
    {
      "cell_type": "code",
      "source": [
        " #27- zamlı_maaslar listesinden 2500 TL altındakileriden 50 TL vergi; 2500 TL üzerindekilerden 100 TL vergi kesiniz. (Function, For, If kullanarak)\n",
        "\n",
        "vergi_tutar=[50,100]\n",
        "\n",
        "vergi_maaslar = [ ]\n",
        "\n",
        "def vergi_kes(liste,vergi_tutar,threshold=2500):\n",
        "  for i in liste :\n",
        "    if i < threshold:\n",
        "      i-=min(vergi_tutar)\n",
        "    elif i > threshold:\n",
        "      i-=max(vergi_tutar)\n",
        "    vergi_maaslar.append(i)\n",
        "  return vergi_maaslar\n",
        "\n",
        "\n",
        "vergi_maaslar = vergi_kes(zamlı_maaslar,vergi_tutar)\n",
        "\n",
        "print(vergi_maaslar)\n"
      ],
      "metadata": {
        "colab": {
          "base_uri": "https://localhost:8080/"
        },
        "id": "DkiCb7oOhXeC",
        "outputId": "9105c8e2-9224-4deb-bb6c-1996e25019bd"
      },
      "execution_count": null,
      "outputs": [
        {
          "output_type": "stream",
          "name": "stdout",
          "text": [
            "[1150.0, 2350.0, 3500.0, 4700.0, 5900.0]\n"
          ]
        }
      ]
    },
    {
      "cell_type": "code",
      "source": [
        "\"\"\"\n",
        "students = [\"John\", \"Mark\", \"Venessa\", \"Mariam\"]\n",
        "28- Listedeki öğrencileri index numaralarına göre iki gruba tek bir listede return edecek bir fonksiyonla yapınız.\n",
        "\"\"\"\n",
        "\n",
        "students = [\"John\", \"Mark\", \"Venessa\", \"Mariam\"]\n",
        "\n",
        "new_students =[]\n",
        "\n",
        "list1=[]\n",
        "list2=[]\n",
        "\n",
        "def list_student(liste):\n",
        "  new_students =[]\n",
        "  for index,deger in enumerate(liste):\n",
        "    if index %2 == 0:\n",
        "      list1.append(deger)\n",
        "    else :\n",
        "      list2.append(deger)\n",
        "\n",
        "  new_students.append( list1 )\n",
        "  new_students.append( list2 )\n",
        "  return new_students\n",
        "\n",
        "\n",
        "new_students = list_student(students)\n",
        "\n",
        "print(new_students)"
      ],
      "metadata": {
        "colab": {
          "base_uri": "https://localhost:8080/"
        },
        "id": "cW_6f3D7i_mb",
        "outputId": "f7853e2c-fe55-4505-f6c2-1d4bcbd8ea38"
      },
      "execution_count": null,
      "outputs": [
        {
          "output_type": "stream",
          "name": "stdout",
          "text": [
            "[['John', 'Venessa'], ['Mark', 'Mariam']]\n"
          ]
        }
      ]
    },
    {
      "cell_type": "code",
      "source": [
        "\"\"\"\n",
        "29- Aşağıdaki şekilde string'i değiştirecek bir fonksiyon yazınız.\n",
        "\n",
        "before: \"hi my name is john and i am learning python\"\n",
        "\n",
        "after: \"Hi mY NaMe iS JoHn aNd i aM LeArNiNg pYtHoN\"\n",
        "def alternating(string):\n",
        "    new_string = \"\"\n",
        "\n",
        "    for string_index in range(len(string)):\n",
        "        if string_index % 2 == 0:\n",
        "            new_string += string[string_index].upper()\n",
        "        else:\n",
        "            new_string += string[string_index].lower()\n",
        "\n",
        "    print(new_string)\n",
        "\n",
        "alternating(\"hi my name is john and i am learning python\")\n",
        "Hi mY NaMe iS JoHn aNd i aM LeArNiNg pYtHoN\n",
        "\"\"\"\n",
        "\n"
      ],
      "metadata": {
        "id": "8R8f1numnO0P"
      },
      "execution_count": null,
      "outputs": []
    },
    {
      "cell_type": "code",
      "source": [
        "#30- Yukarıda yer alan fonksiyonu enumerate kullanarak yeniden yazınız.\n",
        "\n",
        "before= \"hi my name is john and i am learning python\"\n",
        "\n",
        "def degistir(string):\n",
        "  new_string = \"\"\n",
        "  for i,j in enumerate(string):\n",
        "    if i %2 == 0:\n",
        "      new_string +=j.upper()\n",
        "    else :\n",
        "      new_string +=j.lower()\n",
        "\n",
        "  return new_string\n",
        "\n",
        "degistir(before)"
      ],
      "metadata": {
        "id": "_kW2rvwjwm8I",
        "colab": {
          "base_uri": "https://localhost:8080/",
          "height": 36
        },
        "outputId": "f2443f2b-2ede-4e69-ed42-3acccee7583f"
      },
      "execution_count": null,
      "outputs": [
        {
          "output_type": "execute_result",
          "data": {
            "text/plain": [
              "'Hi mY NaMe iS JoHn aNd i aM LeArNiNg pYtHoN'"
            ],
            "application/vnd.google.colaboratory.intrinsic+json": {
              "type": "string"
            }
          },
          "metadata": {},
          "execution_count": 176
        }
      ]
    },
    {
      "cell_type": "code",
      "source": [
        "\"\"\"\n",
        "\n",
        "31-Kullanıcıdan ismini ve yasını alacak bir fonksiyon olusturunuz. Fonksiyon çıktısı aşağıdaki şekilde olmalı:\n",
        "\n",
        "Merhaba benim ismim X,\n",
        "Y yasındayım!\n",
        "\"\"\"\n",
        "\n",
        "def introduce_new(name,age):\n",
        "  string = f\"Merhaba benim ismim {name}, {age} yasındayım!\"\n",
        "  return string\n",
        "\n",
        "introduce_new(\"beyza\",24)"
      ],
      "metadata": {
        "colab": {
          "base_uri": "https://localhost:8080/",
          "height": 36
        },
        "id": "3uxArV-0nYvg",
        "outputId": "b246f8e3-c548-42f0-9dbf-53051b59ea67"
      },
      "execution_count": null,
      "outputs": [
        {
          "output_type": "execute_result",
          "data": {
            "text/plain": [
              "'Merhaba benim ismim beyza, 24 yasındayım!'"
            ],
            "application/vnd.google.colaboratory.intrinsic+json": {
              "type": "string"
            }
          },
          "metadata": {},
          "execution_count": 174
        }
      ]
    }
  ]
}